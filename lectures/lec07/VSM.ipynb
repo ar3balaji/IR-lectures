{
 "cells": [
  {
   "cell_type": "markdown",
   "metadata": {
    "slideshow": {
     "slide_type": "slide"
    }
   },
   "source": [
    "# CS 429: Information Retrieval\n",
    "\n",
    "<br>\n",
    "\n",
    "## Lecture 7: Term weighting and the Vector Space Model\n",
    "\n",
    "<br>\n",
    "\n",
    "### Dr. Aron Culotta\n",
    "### Illinois Institute of Technology \n",
    "\n",
    "\n",
    "---\n",
    "\n",
    "<br><br><br><br>"
   ]
  },
  {
   "cell_type": "markdown",
   "metadata": {
    "slideshow": {
     "slide_type": "slide"
    }
   },
   "source": [
    "Last time:\n",
    "\n",
    "- How do we compress the contents of an index?\n",
    "\n",
    "Today: \n",
    "\n",
    "- From boolean search to ranking\n"
   ]
  },
  {
   "cell_type": "markdown",
   "metadata": {
    "slideshow": {
     "slide_type": "slide"
    }
   },
   "source": [
    "# Assignment 0 notes\n",
    "\n",
    "- <strike>Why is this inefficient?  </strike> &nbsp;&nbsp; <blue> It's not! </blue>"
   ]
  },
  {
   "cell_type": "code",
   "execution_count": 1,
   "metadata": {
    "collapsed": false
   },
   "outputs": [],
   "source": [
    "def intersect(list1, list2):\n",
    "    list(set(list1) & set(list2))"
   ]
  },
  {
   "cell_type": "code",
   "execution_count": 4,
   "metadata": {
    "collapsed": false
   },
   "outputs": [
    {
     "data": {
      "text/plain": [
       "{2, 3}"
      ]
     },
     "execution_count": 4,
     "metadata": {},
     "output_type": "execute_result"
    }
   ],
   "source": [
    "def set_intersection(set1, set2):\n",
    "    \"\"\" Return the intersection of two sets;\n",
    "    approximately what `set1 & set2` does.\"\"\"\n",
    "    smaller = set1 if len(set1) < len(set2) else set2\n",
    "    larger = set1 if len(set1) > len(set2) else set2\n",
    "    return set([x for x in smaller if x in larger])\n",
    "\n",
    "set_intersection(set([1,2,3,4,5]), set([2,3,6]))"
   ]
  },
  {
   "cell_type": "markdown",
   "metadata": {},
   "source": [
    "$O(min(|x|, |y|))$\n",
    "for sets $x$ and $y$\n",
    "\n",
    "Compare with $O(|x| + |y|)$ for book's intersection algorithm.\n",
    "\n",
    "<br><br><br><br>\n",
    "Then, why use lists instead of sets?\n",
    "\n",
    "- This simple posting list is rarely used in practice\n",
    "  - Skip lists\n",
    "  - In today's lecture, we'll look at ways to order postings list other than by id"
   ]
  },
  {
   "cell_type": "markdown",
   "metadata": {
    "slideshow": {
     "slide_type": "fragment"
    }
   },
   "source": [
    "<br><br><br><br><br>\n",
    "Another common error:\n",
    "\n",
    "- `create_index`: no duplicate doc IDs\n",
    "```\n",
    ">>> create_index([['a', 'a']])\n",
    "{'a': [0, 0]}\n",
    "```"
   ]
  },
  {
   "cell_type": "code",
   "execution_count": null,
   "metadata": {
    "collapsed": true
   },
   "outputs": [],
   "source": [
    "\n",
    "\n",
    "\n",
    "\n",
    "\n",
    "\n",
    "\n",
    "\n",
    "\n",
    "\n",
    "\n"
   ]
  },
  {
   "cell_type": "markdown",
   "metadata": {
    "slideshow": {
     "slide_type": "slide"
    }
   },
   "source": [
    "# Why is boolean search bad?"
   ]
  },
  {
   "cell_type": "code",
   "execution_count": null,
   "metadata": {
    "collapsed": true
   },
   "outputs": [],
   "source": [
    "\n",
    "\n",
    "\n",
    "\n",
    "\n",
    "\n",
    "\n",
    "\n",
    "\n",
    "\n",
    "\n",
    "\n",
    "\n",
    "\n",
    "\n"
   ]
  },
  {
   "cell_type": "markdown",
   "metadata": {
    "slideshow": {
     "slide_type": "fragment"
    }
   },
   "source": [
    "- Prone to user error\n",
    "- Have to think of all possible ways of expressing information need\n",
    "- Too many matching results"
   ]
  },
  {
   "cell_type": "markdown",
   "metadata": {
    "slideshow": {
     "slide_type": "slide"
    }
   },
   "source": [
    "# Why is boolean search good?"
   ]
  },
  {
   "cell_type": "code",
   "execution_count": null,
   "metadata": {
    "collapsed": true
   },
   "outputs": [],
   "source": [
    "\n",
    "\n",
    "\n",
    "\n",
    "\n",
    "\n",
    "\n",
    "\n",
    "\n",
    "\n",
    "\n",
    "\n",
    "\n",
    "\n",
    "\n"
   ]
  },
  {
   "cell_type": "markdown",
   "metadata": {
    "slideshow": {
     "slide_type": "fragment"
    }
   },
   "source": [
    "- Users get exactly what they ask for\n",
    "- Good for integrating with other software"
   ]
  },
  {
   "cell_type": "markdown",
   "metadata": {
    "slideshow": {
     "slide_type": "slide"
    }
   },
   "source": [
    "# Problems with boolean search\n",
    "\n",
    "- Too few results: \"error: null ptr exception in line 2341\" $\\rightarrow$ 0 results\n",
    "- Too many results: \"error: null ptr exception\" $\\rightarrow$ 1M results\n",
    "- User must carefully refine the query\n",
    "\n",
    "<br><br><br><br>"
   ]
  },
  {
   "cell_type": "markdown",
   "metadata": {
    "slideshow": {
     "slide_type": "slide"
    }
   },
   "source": [
    "# Ranked retrieval\n",
    "\n",
    "- Order search results by **relevance** to query.\n",
    "- Too many results is not a problem: user only looks at top 10-20.\n",
    "\n",
    "<br><br><br><br>"
   ]
  },
  {
   "cell_type": "markdown",
   "metadata": {
    "slideshow": {
     "slide_type": "slide"
    }
   },
   "source": [
    "# Ranked retrieval\n",
    "\n",
    "**Problem:** Given a query $q$ and a set of documents $D$, compute a score $s_i \\in [0, 1]$ for each document $d_i \\in D$.\n",
    "\n",
    "- higher scores $\\rightarrow d_i$ is more relevant to $q$.\n",
    "\n",
    "<br><br><br><br>\n"
   ]
  },
  {
   "cell_type": "markdown",
   "metadata": {
    "slideshow": {
     "slide_type": "slide"
    }
   },
   "source": [
    "# Ranking one-word queries\n",
    "\n",
    "- Search index for \"dog\".\n",
    "\n",
    "- What should the score for a document be?\n",
    "\n",
    "<br><br><br><br>"
   ]
  },
  {
   "cell_type": "markdown",
   "metadata": {
    "slideshow": {
     "slide_type": "slide"
    }
   },
   "source": [
    "# Jaccard coefficient\n",
    "\n",
    "$$J(A, B) = \\frac{|A \\cap B|}{|A \\cup B|}$$\n",
    "\n",
    "- $J(A, A) = 1$\n",
    "- $J(A, B) = 0$ if $A \\cap B = 0$\n",
    "\n",
    "- Example: \n",
    "  - *q:* dogs with hats\n",
    "  - $d_1:$ big cats wearing hats\n",
    "  - $d_2:$ I like hats.\n",
    "  - $J(q, d_1)$? \n",
    "  - $J(q, d_2)$?\n",
    "  \n",
    "  \n",
    "<br><br><br><br>"
   ]
  },
  {
   "cell_type": "markdown",
   "metadata": {
    "slideshow": {
     "slide_type": "fragment"
    }
   },
   "source": [
    "$$J(q, d_1) = \\frac{|\\{hats\\}|}{|\\{dogs, with, hats, big, cats, wearing\\}} = \\frac{1}{6}$$\n",
    "\n",
    "\n",
    "$$J(q, d_2) = \\frac{|\\{hats\\}|}{|\\{dogs, with, hats, I, like\\}} = \\frac{1}{5}$$"
   ]
  },
  {
   "cell_type": "markdown",
   "metadata": {
    "slideshow": {
     "slide_type": "slide"
    }
   },
   "source": [
    "# Issues\n",
    "\n",
    "- **term frequency**:  documents with more occurrences of query term should be ranked higher than documents with few occurrences.\n",
    "  - q=\"dog\", score(\"dog cat dog\") > score(\"dog cat cat\")\n",
    "- **rare terms**: rare terms matter more than common terms\n",
    "  - q=\"the dog\", score(\"dog cat\") > score(\"the cat\")\n",
    "- **length normalization**: how can we make the scores comparable for long and short documents?"
   ]
  },
  {
   "cell_type": "markdown",
   "metadata": {
    "slideshow": {
     "slide_type": "slide"
    }
   },
   "source": [
    "# Term frequency\n",
    "\n",
    "- Let $tf_{t,d}$ be the frequency of term $t$ in document $d$.\n",
    "- What is the functional relationship between $tf_{t,d}$ and relevance?\n",
    "  - linear, log, something else?\n",
    "  \n",
    "<br><br><br><br>"
   ]
  },
  {
   "cell_type": "markdown",
   "metadata": {
    "slideshow": {
     "slide_type": "fragment"
    }
   },
   "source": [
    "- $\\log$ typically used\n",
    "- The weight of term $t$ in $d$ is:\n",
    "  - $w_{t,d} = 1 + \\log tf_{t,d}$ if $tf_{t,d} > 0$; otherwise $0$.\n",
    "  \n",
    "  \n",
    "- score $s_i = \\sum_{t \\in q \\cap d_i}(1 + \\log tf_{t,d_i})$\n",
    "  - sum of term weights for unique terms in query and document\n",
    "  \n",
    "- If no query terms present? 0 score.\n"
   ]
  },
  {
   "cell_type": "code",
   "execution_count": 1,
   "metadata": {
    "collapsed": false,
    "slideshow": {
     "slide_type": "fragment"
    }
   },
   "outputs": [
    {
     "name": "stdout",
     "output_type": "stream",
     "text": [
      "Populating the interactive namespace from numpy and matplotlib\n"
     ]
    },
    {
     "data": {
      "text/plain": [
       "<matplotlib.text.Text at 0x10a7baac8>"
      ]
     },
     "execution_count": 1,
     "metadata": {},
     "output_type": "execute_result"
    },
    {
     "data": {
      "image/png": "[encoded data removed]",
      "text/plain": [
       "<matplotlib.figure.Figure at 0x108e3aa20>"
      ]
     },
     "metadata": {},
     "output_type": "display_data"
    }
   ],
   "source": [
    "%pylab inline\n",
    "tfs = [1, 100, 1000, 10000, 100000, 1000000]\n",
    "xlim((-10000,1.2e6))\n",
    "ylim((-1, 9))\n",
    "plot(tfs, [1 + math.log10(tf) for tf in tfs], 'bo')\n",
    "xlabel('term frequency')\n",
    "ylabel('1 + log(tf)')"
   ]
  },
  {
   "cell_type": "markdown",
   "metadata": {
    "slideshow": {
     "slide_type": "slide"
    }
   },
   "source": [
    "# Document frequency\n",
    "\n",
    "- We want to weight rare terms more than common terms (e.g., *the* versus *excogitate*).\n",
    "\n",
    "<br><br><br><br>"
   ]
  },
  {
   "cell_type": "markdown",
   "metadata": {
    "slideshow": {
     "slide_type": "fragment"
    }
   },
   "source": [
    "- **idf weight:**\n",
    "  - Let $N$ be total number of documents\n",
    "  - Let $df_t$ be the total number of documents that term $t$ appears in.\n",
    "  - Define **inverse document freqency** as $idf_t = \\log (\\frac{N}{df_t})$"
   ]
  },
  {
   "cell_type": "code",
   "execution_count": 4,
   "metadata": {
    "collapsed": false,
    "slideshow": {
     "slide_type": "fragment"
    }
   },
   "outputs": [
    {
     "name": "stdout",
     "output_type": "stream",
     "text": [
      "Populating the interactive namespace from numpy and matplotlib\n"
     ]
    },
    {
     "data": {
      "text/plain": [
       "<matplotlib.text.Text at 0x10aa1dc88>"
      ]
     },
     "execution_count": 4,
     "metadata": {},
     "output_type": "execute_result"
    },
    {
     "data": {
      "image/png": "[encoded data removed]",
      "text/plain": [
       "<matplotlib.figure.Figure at 0x10a9ca780>"
      ]
     },
     "metadata": {},
     "output_type": "display_data"
    }
   ],
   "source": [
    "%pylab inline\n",
    "N = 1e6\n",
    "dfs = [1, 100, 1000, 10000, 100000, 1000000]\n",
    "xlim((-10000,1.5e6))\n",
    "ylim((-1, 9))\n",
    "plot(dfs, [math.log10(1. * N/df) for df in dfs], 'bo')\n",
    "xlabel('df$_t$')\n",
    "ylabel('log(N/df$_t$)')"
   ]
  },
  {
   "cell_type": "markdown",
   "metadata": {
    "slideshow": {
     "slide_type": "fragment"
    }
   },
   "source": [
    "What effect does idf weight have on one term queries?\n",
    "<br><br><br>\n",
    "<br><br><br><br>  \n",
    "\n"
   ]
  },
  {
   "cell_type": "markdown",
   "metadata": {
    "slideshow": {
     "slide_type": "fragment"
    }
   },
   "source": [
    "- **none**"
   ]
  },
  {
   "cell_type": "markdown",
   "metadata": {
    "slideshow": {
     "slide_type": "slide"
    }
   },
   "source": [
    "# tf-idf weight\n",
    "\n",
    "- Multiply $tf$ and $idf$\n",
    "\n",
    "\n",
    "- $w_{t,d} = (1 + \\log tf_{t,d}) \\times \\log (\\frac{N}{df_t})$\n",
    "\n",
    "- Perhaps the most common baseline weighting system in IR\n",
    "- Increases with term frequency in document; increases with rarity of term\n",
    "\n",
    "**Final score:**\n",
    "\n",
    "$$s_i = \\sum_{t \\in q \\cap d_i} w_{t, d}$$"
   ]
  },
  {
   "cell_type": "markdown",
   "metadata": {
    "slideshow": {
     "slide_type": "slide"
    }
   },
   "source": [
    "# Document representation\n",
    "\n",
    "Previously, each document is a \"bag-of-words\"\n",
    "\n",
    "- \"I saw the man in the hat in the park.\" $\\rightarrow$ `{i: 1, saw: 1, the: 3, man: 1, in: 2, hat: 1, park: 1}`\n",
    "  - order doesn't matter; just term frequency\n",
    "  \n",
    "Now, each term is weighted by *tf-idf*."
   ]
  },
  {
   "cell_type": "markdown",
   "metadata": {
    "slideshow": {
     "slide_type": "slide"
    }
   },
   "source": [
    "# Document Space\n",
    "\n",
    "Each document $d_i$ is now a vector in $V$-dimensional space, where $V$ is the number of terms.\n",
    "\n",
    "- e.g., assume position0 is \"dog\" and position1 is \"cat\", then two documents could be:\n",
    "  - $d_1 = \\{10.6, 0.5\\}$ (mostly about dogs)\n",
    "  - $d_2 = \\{0.2, 5.6\\}$  (mostly about cats)"
   ]
  },
  {
   "cell_type": "code",
   "execution_count": 5,
   "metadata": {
    "collapsed": false,
    "slideshow": {
     "slide_type": "fragment"
    }
   },
   "outputs": [
    {
     "data": {
      "text/plain": [
       "<matplotlib.text.Text at 0x10aa43f60>"
      ]
     },
     "execution_count": 5,
     "metadata": {},
     "output_type": "execute_result"
    },
    {
     "data": {
      "image/png": "[encoded data removed]",
      "text/plain": [
       "<matplotlib.figure.Figure at 0x10a865ac8>"
      ]
     },
     "metadata": {},
     "output_type": "display_data"
    }
   ],
   "source": [
    "plot([10.6, 0.2], [.5, 5.6], 'bo')\n",
    "xlabel('dog')\n",
    "ylabel('cat')"
   ]
  },
  {
   "cell_type": "markdown",
   "metadata": {
    "slideshow": {
     "slide_type": "slide"
    }
   },
   "source": [
    "<br><br><br><br>\n",
    "\n",
    "# First idea: Euclidean distance\n",
    "\n",
    "- Score a query by the distance between the query and document in vector space.\n",
    "\n",
    "$ dist(a, b) = \\sqrt{\\sum_i (a_i - b_i)^2} $\n"
   ]
  },
  {
   "cell_type": "markdown",
   "metadata": {
    "slideshow": {
     "slide_type": "slide"
    }
   },
   "source": [
    "# Problem with Euclidean distance\n",
    "\n",
    "![length](files/length.png)\n",
    "\n",
    "$q$ is similar to $d_2$, but because $d_2$ is longer, Euclidean distance is large\n",
    "\n",
    "- Another way of thinking about it:\n",
    "  - Let $d_i^2$ be $d_i$ appended to itself. \n",
    "  - $dist(d_i, d_i^2)$ should be small, but it is not"
   ]
  },
  {
   "cell_type": "markdown",
   "metadata": {
    "slideshow": {
     "slide_type": "slide"
    }
   },
   "source": [
    "# Cosine similarity\n",
    "\n",
    "**Idea:** score query by angle between query vector and document vector\n",
    "\n",
    "![cosine](files/cosine.png)\n",
    "\n"
   ]
  },
  {
   "cell_type": "markdown",
   "metadata": {
    "slideshow": {
     "slide_type": "slide"
    }
   },
   "source": [
    "# Cosine similarity\n",
    "\n",
    "$$sim(a, b) = \\frac{a \\cdot b}{||a||\\hbox{ } ||b||}$$\n",
    "\n",
    "- $a \\cdot b$ is dot product: $\\sum_i a_i \\times b_i$\n",
    "\n",
    "\n",
    "- $||a||$ is norm: $\\sqrt{\\sum_i a_i^2}$"
   ]
  },
  {
   "cell_type": "markdown",
   "metadata": {},
   "source": [
    "# Exercise\n",
    "\n",
    "Given three documents:\n",
    "\n",
    "- $d_1$: `['the', 'dog', 'barked']`\n",
    "- $d_2$: `['the', 'dog', 'jumped']`\n",
    "- $d_3$: `['a', 'cat', 'jumped']`\n",
    "\n",
    "\n",
    "1. Compute tf-idf vectors for $d_1, d_2$\n",
    "2. Compute the cosine similarity between $d_1$ and $d_2$"
   ]
  },
  {
   "cell_type": "markdown",
   "metadata": {},
   "source": [
    "- $w_{t,d} = (1 + \\log tf_{t,d}) \\times \\log (\\frac{N}{df_t})$\n",
    "\n",
    "$sim(a, b) = \\frac{a \\cdot b}{||a||\\hbox{ } ||b||}$\n",
    "\n",
    "- $a \\cdot b$ is dot product: $\\sum_i a_i \\times b_i$\n",
    "\n",
    "- $||a||$ is norm: $\\sqrt{\\sum_i a_i^2}$\n",
    "\n",
    "<br><br><br><br><br>\n",
    "<br><br><br><br><br>\n"
   ]
  },
  {
   "cell_type": "markdown",
   "metadata": {},
   "source": [
    "First, create term frequency matrix:\n",
    "\n",
    "| doc  | a | barked | cat | dog | jumped | the |\n",
    "|------|---|--------|-----|-----|--------|-----|\n",
    "|$d_1$ | 0 |  1     | 0   | 1   |   0    |  1  |\n",
    "|$d_2$ | 0 |  0     | 0   | 1   |   1    |  1  |\n",
    "|$d_3$ | 1 |  0     | 1   | 0   |   1    |  0  |\n",
    "\n",
    "\n",
    "$N$ = 3\n",
    "\n",
    "**tf-idf matrix:**\n",
    "\n",
    "| doc  | a | barked | cat | dog | jumped | the |\n",
    "|------|---|--------|-----|-----|--------|-----|\n",
    "|$d_1$ | 0 |  log(3)     | 0   | log(3/2)   |   0    |  log(3/2)  |\n",
    "|$d_2$ | 0 |  0     | 0   | log(3/2)  |   log(3)    |  log(3/2)  |\n",
    "|$d_3$ | log(3) |  0     | log(3)   | 0   |   log(3/2)    |  0  |\n",
    "\n",
    "\n",
    "** cosine**$(d_1, d_2)$:\n",
    "\n",
    "$$  cos(d1, d2) = (d1 * d2) / (||d1||*||d2||)$$\n",
    "\n",
    "$$d1 * d2 = (0 + 0 + 0 + log(3/2) * log(3/2) + 0 + log(3/2) * log(3/2))$$\n",
    "\n",
    "$$||d1|| = sqrt(log(3)^2 + log(3/2)^2 + log(3/2)^2)$$\n",
    "\n",
    "$$  ||d2|| = sqrt(log(3)^2 + log(3)^2 + log(3/2)^2)$$\n",
    "\n"
   ]
  }
 ],
 "metadata": {
  "kernelspec": {
   "display_name": "Python 3",
   "language": "python",
   "name": "python3"
  },
  "language_info": {
   "codemirror_mode": {
    "name": "ipython",
    "version": 3
   },
   "file_extension": ".py",
   "mimetype": "text/x-python",
   "name": "python",
   "nbconvert_exporter": "python",
   "pygments_lexer": "ipython3",
   "version": "3.5.0"
  }
 },
 "nbformat": 4,
 "nbformat_minor": 0
}
