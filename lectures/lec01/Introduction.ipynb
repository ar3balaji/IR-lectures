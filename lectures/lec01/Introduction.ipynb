{
 "cells": [
  {
   "cell_type": "markdown",
   "metadata": {
    "slideshow": {
     "slide_type": "slide"
    }
   },
   "source": [
    "<br><br><br>\n",
    "## CS 429: Information Retrieval\n",
    "\n",
    "<br>\n",
    "\n",
    "### Prof. Aron Culotta\n",
    "### Illinois Institute of Technology \n",
    "\n",
    "\n",
    "<br><br><br><br><br><br><br><br>\n",
    "---\n"
   ]
  },
  {
   "cell_type": "markdown",
   "metadata": {
    "slideshow": {
     "slide_type": "slide"
    }
   },
   "source": [
    "# What is Information Retrieval?\n",
    "\n",
    "<br><br><br><br>\n",
    "---"
   ]
  },
  {
   "cell_type": "markdown",
   "metadata": {
    "slideshow": {
     "slide_type": "slide"
    }
   },
   "source": [
    "# Examples of Information Retrieval"
   ]
  },
  {
   "cell_type": "markdown",
   "metadata": {
    "slideshow": {
     "slide_type": "fragment"
    }
   },
   "source": [
    "<a href=\"http://google.com\"><img src=\"https://www.google.com/images/srpr/logo11w.png\" width=\"20%\"></a>\n",
    "<a href=\"http://apple.com\"><img src=\"http://www.fatdex.net/php/wp-content/uploads/2008/11/3_osx_spotlight.jpg\" width=\"30%\"></a>\n",
    "<img src=\"http://marketingchristianbooks.files.wordpress.com/2010/03/librarian.png\" width=\"20%\">\n",
    "<a href=\"http://soundhound.com\"><img src=\"http://a1.mzstatic.com/us/r30/Purple4/v4/04/f6/17/04f6170a-a577-dcc2-c554-b36076b8fe82/mzl.gqblbiin.png\" width=\"20%\"></a>\n",
    "<a href=\"http://youtube.com\"><img src=\"https://developers.google.com/youtube/images/YouTube_logo_standard_white.png\" width=\"20%\"></a>\n",
    "<a href=\"http://eharmony.com\"><img src=\"http://static3.businessinsider.com/image/4c91323c7f8b9a9a40e60300-1200/20-eharmony.jpg\" width=\"30%\"></a>\n",
    "<a href=\"http://ciir-publications.cs.umass.edu/pub/web/getpdf.php?id=1066\"><img src=\"files/goldberg.png\" width=\"30%\"></a>"
   ]
  },
  {
   "cell_type": "markdown",
   "metadata": {},
   "source": [
    "**information retrieval:** \n",
    "  *the process of finding relevant data.*\n",
    "\n",
    "\n",
    "Typically:\n",
    "\n",
    "- text, though also images, video, audio\n",
    "\n",
    "\n",
    "- *unstructured* (in contrast to relational databases)\n",
    "\n",
    "\n",
    "- using a computer "
   ]
  },
  {
   "cell_type": "markdown",
   "metadata": {
    "slideshow": {
     "slide_type": "slide"
    }
   },
   "source": [
    "# Architecture\n",
    "\n",
    "   ![arch](files/arch.png)\n",
    "   \n",
    "   <br><br><br>\n"
   ]
  },
  {
   "cell_type": "markdown",
   "metadata": {
    "slideshow": {
     "slide_type": "slide"
    }
   },
   "source": [
    "# Simplest information retrieval problem\n"
   ]
  },
  {
   "cell_type": "code",
   "execution_count": 70,
   "metadata": {
    "collapsed": false,
    "slideshow": {
     "slide_type": "fragment"
    }
   },
   "outputs": [],
   "source": [
    "documents = ['dog', 'cat', 'zebra', 'cat']\n",
    "\n",
    "\n"
   ]
  },
  {
   "cell_type": "code",
   "execution_count": null,
   "metadata": {
    "collapsed": true,
    "slideshow": {
     "slide_type": "fragment"
    }
   },
   "outputs": [],
   "source": [
    "def search(documents, query):\n",
    "    return [doc for doc in documents if doc == query]\n",
    "\n",
    "\n",
    "def search2(documents, query):\n",
    "    results = []\n",
    "    for doc in documents:\n",
    "        if doc == query:\n",
    "            results.append(doc)\n",
    "    return results\n"
   ]
  },
  {
   "cell_type": "code",
   "execution_count": 71,
   "metadata": {
    "collapsed": false,
    "slideshow": {
     "slide_type": "fragment"
    }
   },
   "outputs": [
    {
     "name": "stdout",
     "output_type": "stream",
     "text": [
      "['cat', 'cat']\n"
     ]
    }
   ],
   "source": [
    "print(search(documents, 'cat'))\n",
    "\n",
    "\n",
    "\n"
   ]
  },
  {
   "cell_type": "markdown",
   "metadata": {
    "slideshow": {
     "slide_type": "fragment"
    }
   },
   "source": [
    "Worst-case runtime?"
   ]
  },
  {
   "cell_type": "markdown",
   "metadata": {
    "slideshow": {
     "slide_type": "fragment"
    }
   },
   "source": [
    "$T(n) = O(n)$ , where $n=$`len(documents)`.    **Can we do better?**"
   ]
  },
  {
   "cell_type": "markdown",
   "metadata": {
    "slideshow": {
     "slide_type": "slide"
    }
   },
   "source": [
    "# Most documents have more than one word..."
   ]
  },
  {
   "cell_type": "code",
   "execution_count": 72,
   "metadata": {
    "collapsed": false
   },
   "outputs": [],
   "source": [
    "documents = [['dog', 'cat'], ['cat', 'zebra'], ['dog', 'puma']]\n",
    "\n",
    "\n",
    "\n"
   ]
  },
  {
   "cell_type": "code",
   "execution_count": 73,
   "metadata": {
    "collapsed": true,
    "slideshow": {
     "slide_type": "fragment"
    }
   },
   "outputs": [],
   "source": [
    "def search(documents, query):\n",
    "    return [doc for doc in documents if query in doc]\n",
    "\n",
    "\n",
    "\n"
   ]
  },
  {
   "cell_type": "code",
   "execution_count": 74,
   "metadata": {
    "collapsed": false,
    "slideshow": {
     "slide_type": "fragment"
    }
   },
   "outputs": [
    {
     "name": "stdout",
     "output_type": "stream",
     "text": [
      "[['dog', 'cat'], ['cat', 'zebra']]\n"
     ]
    }
   ],
   "source": [
    "print(search(documents, 'cat'))\n",
    "\n",
    "\n",
    "\n"
   ]
  },
  {
   "cell_type": "markdown",
   "metadata": {
    "slideshow": {
     "slide_type": "fragment"
    }
   },
   "source": [
    "Runtime?"
   ]
  },
  {
   "cell_type": "markdown",
   "metadata": {
    "slideshow": {
     "slide_type": "fragment"
    }
   },
   "source": [
    "Naive: $O(n*m)$ , where $n=$ `len(documents)` and $m=$ `max(len(d) for d in documents)`"
   ]
  },
  {
   "cell_type": "markdown",
   "metadata": {
    "slideshow": {
     "slide_type": "slide"
    }
   },
   "source": [
    "# Inverted Index\n",
    "\n",
    "Map from *word* $\\rightarrow$ *Postings List*\n",
    "\n",
    "**Postings List:** List of ids for documents containing the word."
   ]
  },
  {
   "cell_type": "code",
   "execution_count": 75,
   "metadata": {
    "collapsed": true,
    "slideshow": {
     "slide_type": "fragment"
    }
   },
   "outputs": [],
   "source": [
    "# Map each word to the list of indices of documents that contain it.\n",
    "index = {'dog': [0, 2],\n",
    "         'cat': [0, 1],  # IDs are sorted. Why?\n",
    "         'zebra': [1],\n",
    "         'puma': [2]}\n",
    "\n",
    "\n",
    "# Recall: \n",
    "# documents = [['dog', 'cat'], ['cat', 'zebra'], ['dog', 'puma']]\n",
    "\n"
   ]
  },
  {
   "cell_type": "code",
   "execution_count": 76,
   "metadata": {
    "collapsed": false
   },
   "outputs": [
    {
     "name": "stdout",
     "output_type": "stream",
     "text": [
      "[0, 2]\n"
     ]
    }
   ],
   "source": [
    "print(index['dog'])\n",
    "\n",
    "\n",
    "\n"
   ]
  },
  {
   "cell_type": "code",
   "execution_count": 77,
   "metadata": {
    "collapsed": false
   },
   "outputs": [
    {
     "data": {
      "text/plain": [
       "['__class__',\n",
       " '__contains__',\n",
       " '__delattr__',\n",
       " '__delitem__',\n",
       " '__dir__',\n",
       " '__doc__',\n",
       " '__eq__',\n",
       " '__format__',\n",
       " '__ge__',\n",
       " '__getattribute__',\n",
       " '__getitem__',\n",
       " '__gt__',\n",
       " '__hash__',\n",
       " '__init__',\n",
       " '__iter__',\n",
       " '__le__',\n",
       " '__len__',\n",
       " '__lt__',\n",
       " '__ne__',\n",
       " '__new__',\n",
       " '__reduce__',\n",
       " '__reduce_ex__',\n",
       " '__repr__',\n",
       " '__setattr__',\n",
       " '__setitem__',\n",
       " '__sizeof__',\n",
       " '__str__',\n",
       " '__subclasshook__',\n",
       " 'clear',\n",
       " 'copy',\n",
       " 'fromkeys',\n",
       " 'get',\n",
       " 'items',\n",
       " 'keys',\n",
       " 'pop',\n",
       " 'popitem',\n",
       " 'setdefault',\n",
       " 'update',\n",
       " 'values']"
      ]
     },
     "execution_count": 77,
     "metadata": {},
     "output_type": "execute_result"
    }
   ],
   "source": [
    "# Python tip: dir() will list all attributes/methods of a variable.\n",
    "dir(index)\n",
    "\n",
    "\n",
    "\n"
   ]
  },
  {
   "cell_type": "code",
   "execution_count": 78,
   "metadata": {
    "collapsed": false
   },
   "outputs": [
    {
     "name": "stdout",
     "output_type": "stream",
     "text": [
      "Help on dict object:\n",
      "\n",
      "class dict(object)\n",
      " |  dict() -> new empty dictionary\n",
      " |  dict(mapping) -> new dictionary initialized from a mapping object's\n",
      " |      (key, value) pairs\n",
      " |  dict(iterable) -> new dictionary initialized as if via:\n",
      " |      d = {}\n",
      " |      for k, v in iterable:\n",
      " |          d[k] = v\n",
      " |  dict(**kwargs) -> new dictionary initialized with the name=value pairs\n",
      " |      in the keyword argument list.  For example:  dict(one=1, two=2)\n",
      " |  \n",
      " |  Methods defined here:\n",
      " |  \n",
      " |  __contains__(self, key, /)\n",
      " |      True if D has a key k, else False.\n",
      " |  \n",
      " |  __delitem__(self, key, /)\n",
      " |      Delete self[key].\n",
      " |  \n",
      " |  __eq__(self, value, /)\n",
      " |      Return self==value.\n",
      " |  \n",
      " |  __ge__(self, value, /)\n",
      " |      Return self>=value.\n",
      " |  \n",
      " |  __getattribute__(self, name, /)\n",
      " |      Return getattr(self, name).\n",
      " |  \n",
      " |  __getitem__(...)\n",
      " |      x.__getitem__(y) <==> x[y]\n",
      " |  \n",
      " |  __gt__(self, value, /)\n",
      " |      Return self>value.\n",
      " |  \n",
      " |  __init__(self, /, *args, **kwargs)\n",
      " |      Initialize self.  See help(type(self)) for accurate signature.\n",
      " |  \n",
      " |  __iter__(self, /)\n",
      " |      Implement iter(self).\n",
      " |  \n",
      " |  __le__(self, value, /)\n",
      " |      Return self<=value.\n",
      " |  \n",
      " |  __len__(self, /)\n",
      " |      Return len(self).\n",
      " |  \n",
      " |  __lt__(self, value, /)\n",
      " |      Return self<value.\n",
      " |  \n",
      " |  __ne__(self, value, /)\n",
      " |      Return self!=value.\n",
      " |  \n",
      " |  __new__(*args, **kwargs) from builtins.type\n",
      " |      Create and return a new object.  See help(type) for accurate signature.\n",
      " |  \n",
      " |  __repr__(self, /)\n",
      " |      Return repr(self).\n",
      " |  \n",
      " |  __setitem__(self, key, value, /)\n",
      " |      Set self[key] to value.\n",
      " |  \n",
      " |  __sizeof__(...)\n",
      " |      D.__sizeof__() -> size of D in memory, in bytes\n",
      " |  \n",
      " |  clear(...)\n",
      " |      D.clear() -> None.  Remove all items from D.\n",
      " |  \n",
      " |  copy(...)\n",
      " |      D.copy() -> a shallow copy of D\n",
      " |  \n",
      " |  fromkeys(iterable, value=None, /) from builtins.type\n",
      " |      Returns a new dict with keys from iterable and values equal to value.\n",
      " |  \n",
      " |  get(...)\n",
      " |      D.get(k[,d]) -> D[k] if k in D, else d.  d defaults to None.\n",
      " |  \n",
      " |  items(...)\n",
      " |      D.items() -> a set-like object providing a view on D's items\n",
      " |  \n",
      " |  keys(...)\n",
      " |      D.keys() -> a set-like object providing a view on D's keys\n",
      " |  \n",
      " |  pop(...)\n",
      " |      D.pop(k[,d]) -> v, remove specified key and return the corresponding value.\n",
      " |      If key is not found, d is returned if given, otherwise KeyError is raised\n",
      " |  \n",
      " |  popitem(...)\n",
      " |      D.popitem() -> (k, v), remove and return some (key, value) pair as a\n",
      " |      2-tuple; but raise KeyError if D is empty.\n",
      " |  \n",
      " |  setdefault(...)\n",
      " |      D.setdefault(k[,d]) -> D.get(k,d), also set D[k]=d if k not in D\n",
      " |  \n",
      " |  update(...)\n",
      " |      D.update([E, ]**F) -> None.  Update D from dict/iterable E and F.\n",
      " |      If E is present and has a .keys() method, then does:  for k in E: D[k] = E[k]\n",
      " |      If E is present and lacks a .keys() method, then does:  for k, v in E: D[k] = v\n",
      " |      In either case, this is followed by: for k in F:  D[k] = F[k]\n",
      " |  \n",
      " |  values(...)\n",
      " |      D.values() -> an object providing a view on D's values\n",
      " |  \n",
      " |  ----------------------------------------------------------------------\n",
      " |  Data and other attributes defined here:\n",
      " |  \n",
      " |  __hash__ = None\n",
      "\n"
     ]
    }
   ],
   "source": [
    "# Python tip: help() will list\n",
    "# documentation for variable/method.\n",
    "help(index)\n",
    "\n",
    "\n",
    "\n"
   ]
  },
  {
   "cell_type": "markdown",
   "metadata": {},
   "source": [
    "Most important Python data structures to know:\n",
    "- list\n",
    "- set\n",
    "- tuple\n",
    "- dict\n",
    "- Counter"
   ]
  },
  {
   "cell_type": "code",
   "execution_count": 79,
   "metadata": {
    "collapsed": true,
    "slideshow": {
     "slide_type": "fragment"
    }
   },
   "outputs": [],
   "source": [
    "def indexed_search(documents, index, query):\n",
    "    return [documents[doc_id] for doc_id in index[query]]\n",
    "\n",
    "\n",
    "\n"
   ]
  },
  {
   "cell_type": "code",
   "execution_count": 80,
   "metadata": {
    "collapsed": false,
    "slideshow": {
     "slide_type": "fragment"
    }
   },
   "outputs": [
    {
     "name": "stdout",
     "output_type": "stream",
     "text": [
      "[['dog', 'cat'], ['cat', 'zebra']]\n"
     ]
    }
   ],
   "source": [
    "print(indexed_search(documents, index, 'cat'))\n",
    "\n",
    "\n",
    "\n"
   ]
  },
  {
   "cell_type": "markdown",
   "metadata": {
    "slideshow": {
     "slide_type": "fragment"
    }
   },
   "source": [
    "**Runtime?**  \n"
   ]
  },
  {
   "cell_type": "markdown",
   "metadata": {
    "slideshow": {
     "slide_type": "fragment"
    }
   },
   "source": [
    "$O(k)$ , where $k$ is number of matching documents."
   ]
  },
  {
   "cell_type": "markdown",
   "metadata": {
    "slideshow": {
     "slide_type": "slide"
    }
   },
   "source": [
    "# Building an Index\n",
    "\n",
    "\n",
    "![index2](files/index2.png)\n",
    "\n",
    "(Source: MRS)"
   ]
  },
  {
   "cell_type": "markdown",
   "metadata": {
    "slideshow": {
     "slide_type": "slide"
    }
   },
   "source": [
    "# Query Processing\n",
    "\n",
    "Most queries have more than one word:\n",
    "\n",
    "**dog** AND **cat**\n",
    "\n",
    "** Index:**\n",
    "<br>\n",
    "*dog* $\\rightarrow \\{0, 2\\}$\n",
    "<br>\n",
    "*cat* $\\rightarrow  \\{0, 1\\}$"
   ]
  },
  {
   "cell_type": "code",
   "execution_count": 81,
   "metadata": {
    "collapsed": true,
    "slideshow": {
     "slide_type": "fragment"
    }
   },
   "outputs": [],
   "source": [
    "def and_search(documents, index, queries):\n",
    "    doc_ids = set(index[queries[0]])\n",
    "    for query in queries[1:]: # For remaining words in query\n",
    "        doc_ids &= set(index[query]) # Set intersection\n",
    "    return [documents[doc_id] for doc_id in doc_ids]\n",
    "\n",
    "\n",
    "\n"
   ]
  },
  {
   "cell_type": "code",
   "execution_count": 82,
   "metadata": {
    "collapsed": false,
    "slideshow": {
     "slide_type": "fragment"
    }
   },
   "outputs": [
    {
     "name": "stdout",
     "output_type": "stream",
     "text": [
      "[['dog', 'cat']]\n"
     ]
    }
   ],
   "source": [
    "print(and_search(documents, index, ['cat', 'dog']))\n",
    "\n",
    "\n",
    "\n"
   ]
  },
  {
   "cell_type": "markdown",
   "metadata": {
    "slideshow": {
     "slide_type": "fragment"
    }
   },
   "source": [
    "**Runtime?**"
   ]
  },
  {
   "cell_type": "markdown",
   "metadata": {
    "slideshow": {
     "slide_type": "fragment"
    }
   },
   "source": [
    "Depends on set intersection computation."
   ]
  },
  {
   "cell_type": "markdown",
   "metadata": {
    "slideshow": {
     "slide_type": "slide"
    }
   },
   "source": [
    "# Merging Postings Lists\n",
    "\n",
    "*dog* $\\rightarrow \\{0, 2, 4, 11, 31, 45, 173, 174\\}$\n",
    "<br>\n",
    "*cat* $\\rightarrow \\{2, 31, 54, 101\\}$\n",
    "\n",
    "Intersection $\\rightarrow \\{2, 31\\}$\n",
    "\n",
    "**Idea**: maintain pointers to both lists and walk through both simultaneously\n",
    "\n",
    "Running time: $O(x + y)$ , where $x$ and $y$ are lengths of two postings lists"
   ]
  },
  {
   "cell_type": "markdown",
   "metadata": {
    "slideshow": {
     "slide_type": "slide"
    }
   },
   "source": [
    "# Query Optimization\n",
    "\n",
    "Organize query processing efficiently.\n",
    "\n",
    "*dog* $\\rightarrow \\{0, 2, 4, 11, 31, 45, 173, 174\\}$\n",
    "<br>\n",
    "*cat* $\\rightarrow \\{2, 31, 54, 101\\}$\n",
    "<br>\n",
    "*zebra* $\\rightarrow \\{31, 506\\}$\n",
    "\n",
    "**dog** AND **cat** AND **zebra**\n",
    "\n",
    "Which order?\n",
    "\n",
    "1. (**dog** AND **cat**) AND **zebra**\n",
    "2. **dog** AND (**cat** AND **zebra**)\n",
    "3. (**dog** AND **zebra**) AND **cat**"
   ]
  },
  {
   "cell_type": "markdown",
   "metadata": {
    "slideshow": {
     "slide_type": "fragment"
    }
   },
   "source": [
    "\\#2 reduces work by processing rare words first.\n",
    "\n"
   ]
  },
  {
   "cell_type": "markdown",
   "metadata": {
    "slideshow": {
     "slide_type": "fragment"
    }
   },
   "source": [
    "What about **dog** AND NOT **cat**?"
   ]
  },
  {
   "cell_type": "markdown",
   "metadata": {
    "slideshow": {
     "slide_type": "slide"
    }
   },
   "source": [
    "# Survey results"
   ]
  },
  {
   "cell_type": "code",
   "execution_count": 83,
   "metadata": {
    "collapsed": false,
    "slideshow": {
     "slide_type": "fragment"
    }
   },
   "outputs": [
    {
     "data": {
      "text/plain": [
       "['Timestamp',\n",
       " 'First Name',\n",
       " 'Last Name',\n",
       " 'IIT Email Address',\n",
       " 'CWID (A#)',\n",
       " \"GitHub Username (Please create a new account at http://github.com if you don't already have one.)\",\n",
       " 'How familiar are you with version control? (git, svn, mercurial, cvs, etc.)',\n",
       " 'How familiar are you with Python?',\n",
       " 'Have you taken a course on Machine Learning or Data Mining?',\n",
       " 'Why are you taking this course?']"
      ]
     },
     "execution_count": 83,
     "metadata": {},
     "output_type": "execute_result"
    }
   ],
   "source": [
    "# survey.txt contains tab-separated survey results.\n",
    "survey = [line.strip().split('\\t') for line in open('survey.txt')]\n",
    "survey[0]\n",
    "\n",
    "\n",
    "\n"
   ]
  },
  {
   "cell_type": "code",
   "execution_count": 84,
   "metadata": {
    "collapsed": false
   },
   "outputs": [],
   "source": [
    "import matplotlib.pyplot as plt # a plotting library\n",
    "# iPython \"magic\" command. print plots in notebook, instead of a new window.\n",
    "% matplotlib inline  \n",
    "from collections import Counter  # A dict for counting.\n",
    "\n",
    "def plot_results_for_column(survey, colidx):\n",
    "    counts = Counter(row[colidx] for row in survey[1:])\n",
    "    keys = sorted(counts.keys())\n",
    "    plt.figure()\n",
    "    plt.bar(range(len(keys)), [counts[k] for k in keys], width=.5)\n",
    "    plt.xticks(range(len(counts)), keys)\n",
    "    plt.title(survey[0][colidx])\n",
    "    plt.xlabel('count')\n",
    "    plt.ylabel('frequency')\n",
    "    plt.show()\n",
    "    \n",
    "\n",
    "\n"
   ]
  },
  {
   "cell_type": "code",
   "execution_count": 85,
   "metadata": {
    "collapsed": false
   },
   "outputs": [
    {
     "data": {
      "image/png": "[encoded data removed]",
      "text/plain": [
       "<matplotlib.figure.Figure at 0x10866fb38>"
      ]
     },
     "metadata": {},
     "output_type": "display_data"
    }
   ],
   "source": [
    "plot_results_for_column(survey, 6)\n",
    "\n",
    "\n",
    "\n"
   ]
  },
  {
   "cell_type": "code",
   "execution_count": 86,
   "metadata": {
    "collapsed": false
   },
   "outputs": [
    {
     "data": {
      "image/png": "[encoded data removed]",
      "text/plain": [
       "<matplotlib.figure.Figure at 0x109f65198>"
      ]
     },
     "metadata": {},
     "output_type": "display_data"
    }
   ],
   "source": [
    "plot_results_for_column(survey, 7)\n",
    "\n",
    "\n",
    "\n"
   ]
  },
  {
   "cell_type": "code",
   "execution_count": 87,
   "metadata": {
    "collapsed": false
   },
   "outputs": [
    {
     "data": {
      "image/png": "[encoded data removed]",
      "text/plain": [
       "<matplotlib.figure.Figure at 0x10a069160>"
      ]
     },
     "metadata": {},
     "output_type": "display_data"
    }
   ],
   "source": [
    "plot_results_for_column(survey, 8)\n",
    "\n",
    "\n",
    "\n"
   ]
  },
  {
   "cell_type": "code",
   "execution_count": 88,
   "metadata": {
    "collapsed": false
   },
   "outputs": [
    {
     "data": {
      "text/plain": [
       "[('to', 54),\n",
       " ('and', 42),\n",
       " ('i', 37),\n",
       " ('in', 25),\n",
       " ('learn', 21),\n",
       " ('it', 18),\n",
       " ('the', 17),\n",
       " ('my', 17),\n",
       " ('about', 15),\n",
       " ('search', 15),\n",
       " ('data', 14),\n",
       " ('this', 14),\n",
       " ('a', 12),\n",
       " ('like', 12),\n",
       " ('interesting', 12),\n",
       " ('of', 12),\n",
       " ('interested', 11),\n",
       " ('want', 11),\n",
       " ('is', 10),\n",
       " ('retrieval', 10)]"
      ]
     },
     "execution_count": 88,
     "metadata": {},
     "output_type": "execute_result"
    }
   ],
   "source": [
    "# Count terms in responses to \"Why are you taking this course?\"\n",
    "term_counts = Counter()\n",
    "for row in survey:\n",
    "    term_counts.update(row[9].lower().split())\n",
    "term_counts.most_common(20)\n",
    "\n",
    "\n",
    "\n"
   ]
  },
  {
   "cell_type": "code",
   "execution_count": 89,
   "metadata": {
    "collapsed": false
   },
   "outputs": [
    {
     "data": {
      "text/plain": [
       "[(('to', 'learn'), 19),\n",
       " (('want', 'to'), 11),\n",
       " (('interested', 'in'), 10),\n",
       " (('learn', 'about'), 8),\n",
       " (('search', 'engine'), 8),\n",
       " (('information', 'retrieval'), 6),\n",
       " (('like', 'to'), 6),\n",
       " (('i', 'want'), 6),\n",
       " (('learn', 'more'), 5),\n",
       " (('data', 'mining'), 5),\n",
       " (('i', 'am'), 5),\n",
       " (('this', 'course'), 5),\n",
       " (('in', 'the'), 4),\n",
       " (('i', 'would'), 4),\n",
       " (('to', 'take'), 4),\n",
       " (('in', 'my'), 4),\n",
       " (('would', 'like'), 4),\n",
       " (('about', 'data'), 4),\n",
       " (('more', 'about'), 4),\n",
       " (('and', 'i'), 4)]"
      ]
     },
     "execution_count": 89,
     "metadata": {},
     "output_type": "execute_result"
    }
   ],
   "source": [
    "# Count 2-word phrases (bigrams) in responses to \"Why are you taking this course?\"\n",
    "term_counts = Counter()\n",
    "for row in survey:\n",
    "    words = row[9].lower().split()\n",
    "    term_counts.update(zip(words[:-1], words[1:]))\n",
    "term_counts.most_common(20)\n",
    "\n",
    "\n",
    "\n"
   ]
  },
  {
   "cell_type": "markdown",
   "metadata": {},
   "source": [
    "# Course Information\n",
    "\n",
    "- **GitHub** will be primary source of course information.\n",
    "  - <https://github.com/iit-cs429/main>\n",
    "- Assignments turned in to GitHub\n",
    "- Quizzes done on Blackboard.\n",
    "- Let's look at the [syllabus](https://github.com/iit-cs429/main/blob/master/README.md), [schedule](https://github.com/iit-cs429/main/blob/master/Schedule.md), and [first assignment](https://github.com/iit-cs429/assignments/)."
   ]
  }
 ],
 "metadata": {
  "kernelspec": {
   "display_name": "Python 3",
   "language": "python",
   "name": "python3"
  },
  "language_info": {
   "codemirror_mode": {
    "name": "ipython",
    "version": 3
   },
   "file_extension": ".py",
   "mimetype": "text/x-python",
   "name": "python",
   "nbconvert_exporter": "python",
   "pygments_lexer": "ipython3",
   "version": "3.5.0"
  }
 },
 "nbformat": 4,
 "nbformat_minor": 0
}
