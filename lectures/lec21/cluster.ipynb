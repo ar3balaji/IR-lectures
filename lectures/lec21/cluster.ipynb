{
 "cells": [
  {
   "cell_type": "markdown",
   "metadata": {},
   "source": [
    "# CS 429: Information Retrieval\n",
    "<br>\n",
    "\n",
    "## Clustering Words\n",
    "\n",
    "<br>\n",
    "\n",
    "### Dr. Aron Culotta\n",
    "### Illinois Institute of Technology\n",
    "### Spring 2015"
   ]
  },
  {
   "cell_type": "markdown",
   "metadata": {},
   "source": [
    "# Motivation\n",
    "\n",
    "Often, we want to know which features appear together.\n",
    "\n",
    "- If you liked *Twilight* you might like *Nosferatu*.\n",
    "- \"happy\" is a synonym of \"glad.\""
   ]
  },
  {
   "cell_type": "markdown",
   "metadata": {},
   "source": [
    "We'll use k-means to cluster together related words from Twitter.\n",
    "\n",
    "**Caution:** This uses live Twitter data, which often contains profanity."
   ]
  },
  {
   "cell_type": "code",
   "execution_count": 2,
   "metadata": {
    "collapsed": false
   },
   "outputs": [
    {
     "name": "stdout",
     "output_type": "stream",
     "text": [
      "100\n",
      "200\n",
      "300\n",
      "400\n",
      "500\n",
      "600\n",
      "700\n",
      "800\n",
      "900\n",
      "1000\n",
      "1100\n",
      "1200\n",
      "1300\n",
      "1400\n",
      "1500\n",
      "1600\n",
      "1700\n",
      "1800\n",
      "1900\n",
      "2000\n",
      "2100\n",
      "2200\n",
      "2300\n",
      "2400\n",
      "2500\n",
      "2600\n",
      "2700\n",
      "2800\n",
      "2900\n",
      "3000\n",
      "3100\n",
      "3200\n",
      "3300\n",
      "3400\n",
      "3500\n",
      "3600\n",
      "3700\n",
      "3800\n",
      "3900\n",
      "4000\n",
      "4100\n",
      "4200\n",
      "4300\n",
      "4400\n",
      "4500\n",
      "4600\n",
      "4700\n",
      "4800\n",
      "4900\n",
      "5000\n"
     ]
    }
   ],
   "source": [
    "# Get some tweets containing the word 'i'.\n",
    "\n",
    "import os\n",
    "from TwitterAPI import TwitterAPI\n",
    "\n",
    "# Read Twitter credentials from environmental variables.\n",
    "api = TwitterAPI(os.environ.get('TW_CONSUMER_KEY'),\n",
    "                 os.environ.get('TW_CONSUMER_SECRET'),\n",
    "                 os.environ.get('TW_ACCESS_TOKEN'),\n",
    "                 os.environ.get('TW_ACCESS_TOKEN_SECRET'))\n",
    "\n",
    "# Collect 5000 tweets.\n",
    "tweets = []\n",
    "while True: \n",
    "    r = api.request('statuses/filter', {'track':'i',\n",
    "                                      'language':'en'})\n",
    "    if r.status_code != 200: # error\n",
    "        break\n",
    "    else:\n",
    "        for item in r.get_iterator():\n",
    "            tweets.append(item)\n",
    "            if len(tweets) > 5000:\n",
    "                break\n",
    "            elif len(tweets) % 100 == 0:\n",
    "                print(len(tweets))\n"
   ]
  },
  {
   "cell_type": "code",
   "execution_count": 3,
   "metadata": {
    "collapsed": false
   },
   "outputs": [
    {
     "name": "stdout",
     "output_type": "stream",
     "text": [
      "5003\n"
     ]
    }
   ],
   "source": [
    "print(len(tweets))"
   ]
  },
  {
   "cell_type": "code",
   "execution_count": 4,
   "metadata": {
    "collapsed": false
   },
   "outputs": [
    {
     "name": "stdout",
     "output_type": "stream",
     "text": [
      "text @Maddy_Valone thanks madelynn, I love you💖\n",
      "description: actions speak louder than words// 10.23.15❤️ 03.07.16 AB❤️❤️\n",
      "name: Tay\n",
      "location: None\n"
     ]
    }
   ],
   "source": [
    "# Each tweet is a Python dict.\n",
    "print('text', tweets[0]['text'])\n",
    "print('description:', tweets[0]['user']['description'])\n",
    "print('name:', tweets[0]['user']['name'])\n",
    "print('location:', tweets[0]['user']['location'])"
   ]
  },
  {
   "cell_type": "code",
   "execution_count": 5,
   "metadata": {
    "collapsed": false
   },
   "outputs": [],
   "source": [
    "tweets = [t for t in tweets if 'text' in t]"
   ]
  },
  {
   "cell_type": "code",
   "execution_count": 6,
   "metadata": {
    "collapsed": false
   },
   "outputs": [
    {
     "data": {
      "text/plain": [
       "4623"
      ]
     },
     "execution_count": 6,
     "metadata": {},
     "output_type": "execute_result"
    }
   ],
   "source": [
    "len(tweets)"
   ]
  },
  {
   "cell_type": "code",
   "execution_count": 7,
   "metadata": {
    "collapsed": false
   },
   "outputs": [
    {
     "data": {
      "text/plain": [
       "['thanks', 'madelynn', 'i', 'love', 'you']"
      ]
     },
     "execution_count": 7,
     "metadata": {},
     "output_type": "execute_result"
    }
   ],
   "source": [
    "# Tokenize each tweet text.\n",
    "import re\n",
    "tokens = []\n",
    "for tweet in tweets:\n",
    "    text = tweet['text'].lower()\n",
    "    text = re.sub('@\\S+', ' ', text)  # Remove mentions.\n",
    "    text = re.sub('http\\S+', ' ', text)  # Remove urls.\n",
    "    tokens.append(re.findall('[A-Za-z]+', text)) # Retain words.\n",
    "tokens[0]"
   ]
  },
  {
   "cell_type": "code",
   "execution_count": 8,
   "metadata": {
    "collapsed": false
   },
   "outputs": [],
   "source": [
    "# Count words.\n",
    "from collections import Counter\n",
    "\n",
    "word_counts = Counter()\n",
    "for tweet in tokens:\n",
    "    word_counts.update(tweet)"
   ]
  },
  {
   "cell_type": "code",
   "execution_count": 9,
   "metadata": {
    "collapsed": false
   },
   "outputs": [
    {
     "name": "stdout",
     "output_type": "stream",
     "text": [
      "7502 unique terms\n"
     ]
    },
    {
     "data": {
      "text/plain": [
       "[('i', 5702),\n",
       " ('rt', 1845),\n",
       " ('to', 1465),\n",
       " ('the', 1384),\n",
       " ('a', 1220),\n",
       " ('you', 1085),\n",
       " ('m', 964),\n",
       " ('and', 941),\n",
       " ('my', 884),\n",
       " ('t', 780)]"
      ]
     },
     "execution_count": 9,
     "metadata": {},
     "output_type": "execute_result"
    }
   ],
   "source": [
    "# Inspect word counts.\n",
    "import math\n",
    "\n",
    "print(len(word_counts), 'unique terms')\n",
    "word_counts.most_common(10)"
   ]
  },
  {
   "cell_type": "code",
   "execution_count": 10,
   "metadata": {
    "collapsed": false
   },
   "outputs": [
    {
     "name": "stdout",
     "output_type": "stream",
     "text": [
      "3145 words occur at least two times.\n"
     ]
    }
   ],
   "source": [
    "# Retain in vocabulary words occurring more than twice.\n",
    "vocab = set([w for w, c in word_counts.items() if c > 1])\n",
    "print('%d words occur at least two times.' % len(vocab))"
   ]
  },
  {
   "cell_type": "code",
   "execution_count": 11,
   "metadata": {
    "collapsed": false
   },
   "outputs": [],
   "source": [
    "# Prune tokens.\n",
    "newtoks = []\n",
    "for i, tweet in enumerate(tokens):\n",
    "    newtok = [token for token in tweet if token in vocab]\n",
    "    if len(newtok) > 0:\n",
    "        newtoks.append(newtok)\n",
    "tokens = newtoks"
   ]
  },
  {
   "cell_type": "code",
   "execution_count": 14,
   "metadata": {
    "collapsed": false
   },
   "outputs": [
    {
     "data": {
      "text/plain": [
       "['thanks', 'i', 'love', 'you']"
      ]
     },
     "execution_count": 14,
     "metadata": {},
     "output_type": "execute_result"
    }
   ],
   "source": [
    "# A sample pruned tweet.\n",
    "tokens[0]"
   ]
  },
  {
   "cell_type": "code",
   "execution_count": 15,
   "metadata": {
    "collapsed": false
   },
   "outputs": [],
   "source": [
    "# For each term, create a context vector, indicating how often\n",
    "# each word occurs to the left or right of it.\n",
    "from collections import defaultdict\n",
    "import numpy as np\n",
    "\n",
    "# dict from term to context vector.\n",
    "contexts = defaultdict(lambda: Counter())\n",
    "window = 2\n",
    "for tweet in tokens:\n",
    "    for i, token in enumerate(tweet):\n",
    "        features = []\n",
    "        for j in range(np.amax([0, i-window]), i):\n",
    "            features.append(tweet[j] + \"@\" + str(j-i))\n",
    "        for j in range(i+1, min(i + window, len(tweet))):\n",
    "            features.append(tweet[j] + \"@\" + str(j-i))\n",
    "        contexts[token].update(features)\n",
    "        # Optionally: ignore word order\n",
    "        # contexts[token].update(tweet[:i] + tweet[i+1:])\n"
   ]
  },
  {
   "cell_type": "code",
   "execution_count": 16,
   "metadata": {
    "collapsed": false
   },
   "outputs": [
    {
     "data": {
      "text/plain": [
       "[('m@1', 949),\n",
       " ('rt@-1', 791),\n",
       " ('and@-1', 233),\n",
       " ('love@1', 219),\n",
       " ('ve@1', 209),\n",
       " ('can@1', 208),\n",
       " ('rt@-2', 201),\n",
       " ('don@1', 172),\n",
       " ('have@1', 169),\n",
       " ('just@1', 166),\n",
       " ('but@-1', 164),\n",
       " ('ll@1', 162),\n",
       " ('when@-1', 139),\n",
       " ('the@-2', 136),\n",
       " ('am@1', 134),\n",
       " ('was@1', 125),\n",
       " ('me@-2', 118),\n",
       " ('want@1', 110),\n",
       " ('i@-2', 109),\n",
       " ('hate@1', 106)]"
      ]
     },
     "execution_count": 16,
     "metadata": {},
     "output_type": "execute_result"
    }
   ],
   "source": [
    "contexts['i'].most_common(20)"
   ]
  },
  {
   "cell_type": "code",
   "execution_count": 17,
   "metadata": {
    "collapsed": false
   },
   "outputs": [
    {
     "data": {
      "text/plain": [
       "[('i@-1', 5675),\n",
       " ('i@-2', 5464),\n",
       " ('i@1', 4350),\n",
       " ('rt@-1', 1844),\n",
       " ('rt@-2', 1838)]"
      ]
     },
     "execution_count": 17,
     "metadata": {},
     "output_type": "execute_result"
    }
   ],
   "source": [
    "# Compute the number of different contexts each term appears in.\n",
    "tweet_freq = Counter()\n",
    "for context in contexts.values():\n",
    "    tweet_freq.update(context)\n",
    "tweet_freq.most_common(5)"
   ]
  },
  {
   "cell_type": "code",
   "execution_count": 18,
   "metadata": {
    "collapsed": false
   },
   "outputs": [
    {
     "data": {
      "text/plain": [
       "[('m@1', 0.6074600339659124),\n",
       " ('rt@-1', 0.46777716298830435),\n",
       " ('love@1', 0.16287334308387164),\n",
       " ('ve@1', 0.16207223522779549),\n",
       " ('and@-1', 0.14995192581405317)]"
      ]
     },
     "execution_count": 18,
     "metadata": {},
     "output_type": "execute_result"
    }
   ],
   "source": [
    "# Transform each context vector to be term freq / tweet frequency. \n",
    "# Also then normalize by length.\n",
    "for term, context in contexts.items():\n",
    "    for term2, frequency in context.items():\n",
    "        context[term2] = frequency / (1. + math.log(tweet_freq[term2]))\n",
    "    length = math.sqrt(sum([v*v for v in context.values()]))\n",
    "    for term2, frequency in context.items():\n",
    "        context[term2] = 1. * frequency / length\n",
    "    \n",
    "contexts['i'].most_common(5)"
   ]
  },
  {
   "cell_type": "code",
   "execution_count": 19,
   "metadata": {
    "collapsed": false
   },
   "outputs": [
    {
     "data": {
      "text/plain": [
       "[('fake@-2', 0.5975239422063642),\n",
       " ('friends@-1', 0.5372074585396509),\n",
       " ('being@1', 0.4509488564161085),\n",
       " ('is@1', 0.15957649683887706),\n",
       " ('go@-2', 0.11810454155883642),\n",
       " ('rt@-1', 0.10816530593283122),\n",
       " ('to@-1', 0.09752316082466882),\n",
       " ('middle@-1', 0.08828866275699869),\n",
       " ('project@1', 0.0720574292682831),\n",
       " ('incident@-2', 0.06803418701026041)]"
      ]
     },
     "execution_count": 19,
     "metadata": {},
     "output_type": "execute_result"
    }
   ],
   "source": [
    "contexts['school'].most_common(10)"
   ]
  },
  {
   "cell_type": "markdown",
   "metadata": {},
   "source": [
    "At this point we have a list of dictionaries, one per term, indicating the terms that co-occur (weighted by inverse tweet frequency).\n",
    "\n",
    "Next, we have to cluster these vectors. To do this, we'll need to be able to compute the euclidean distance between two vectors."
   ]
  },
  {
   "cell_type": "code",
   "execution_count": 20,
   "metadata": {
    "collapsed": false
   },
   "outputs": [
    {
     "name": "stdout",
     "output_type": "stream",
     "text": [
      "1.4142135623730951\n",
      "2.23606797749979\n"
     ]
    }
   ],
   "source": [
    "# This is not efficient!\n",
    "def distance(c1, c2):\n",
    "    if len(c1.keys()) == 0 or len(c2.keys()) == 0:\n",
    "        return 1e9\n",
    "    keys = set(c1.keys()) | set(c2.keys())\n",
    "    distance = 0.\n",
    "    for k in keys:\n",
    "        distance += (c1[k] - c2[k]) ** 2\n",
    "    return math.sqrt(distance)\n",
    "\n",
    "print(distance({'hi':10, 'bye': 5}, {'hi': 9, 'bye': 4}))\n",
    "print(distance({'hi':10, 'bye': 5}, {'hi': 8, 'bye': 4}))"
   ]
  },
  {
   "cell_type": "code",
   "execution_count": 21,
   "metadata": {
    "collapsed": false
   },
   "outputs": [
    {
     "data": {
      "text/plain": [
       "array(['love', 'hope', 'miss', 'm', 'swear', 'am', 'll', 'bet', 've',\n",
       "       'hate'], \n",
       "      dtype='<U22')"
      ]
     },
     "execution_count": 21,
     "metadata": {},
     "output_type": "execute_result"
    }
   ],
   "source": [
    "def find_closest(term, n=5):\n",
    "    terms = np.array(list(contexts.keys()))\n",
    "    context = contexts[term]\n",
    "    distances = []\n",
    "    for term2, context2 in contexts.items():\n",
    "        distances.append(distance(context, context2))\n",
    "    return terms[np.argsort(distances)][:n]\n",
    "\n",
    "find_closest('love', n=10)"
   ]
  },
  {
   "cell_type": "code",
   "execution_count": 22,
   "metadata": {
    "collapsed": false
   },
   "outputs": [
    {
     "name": "stdout",
     "output_type": "stream",
     "text": [
      "3143 nonzero contexts\n"
     ]
    }
   ],
   "source": [
    "nz_contexts = [t for t, context in contexts.items()\n",
    "               if len(context) > 1]\n",
    "contexts = dict([(term, contexts[term]) for term in nz_contexts])\n",
    "print(len(nz_contexts), 'nonzero contexts')"
   ]
  },
  {
   "cell_type": "code",
   "execution_count": 23,
   "metadata": {
    "collapsed": false
   },
   "outputs": [
    {
     "name": "stdout",
     "output_type": "stream",
     "text": [
      "['a@-1' 'a@-2' 'a@1' 'abgehakt@-1' 'abgehakt@-2' 'abgehakt@1' 'abi@1'\n",
      " 'ability@-1' 'ability@-2' 'ability@1']\n",
      "  (0, 2730)\t0.356687862264\n",
      "  (0, 5155)\t0.660034013128\n",
      "  (0, 6855)\t0.238859146112\n",
      "  (0, 7255)\t0.425839590179\n",
      "  (0, 8208)\t0.207871150335\n",
      "  (0, 8237)\t0.394367096803\n"
     ]
    }
   ],
   "source": [
    "# Transform context dicts to a sparse vector\n",
    "# for sklearn.\n",
    "from sklearn.feature_extraction import DictVectorizer\n",
    "\n",
    "vec = DictVectorizer()\n",
    "X = vec.fit_transform(contexts.values())\n",
    "names = np.array(vec.get_feature_names())\n",
    "print(names[:10])\n",
    "print(X[0])"
   ]
  },
  {
   "cell_type": "code",
   "execution_count": 36,
   "metadata": {
    "collapsed": false
   },
   "outputs": [
    {
     "name": "stdout",
     "output_type": "stream",
     "text": [
      "828\n",
      "  (0, 1)\t0.00477244645424\n",
      "  (0, 2)\t0.00940532605072\n",
      "  (0, 15)\t0.00614343176802\n",
      "  (0, 74)\t0.00835941470593\n",
      "  (0, 79)\t0.0181453447983\n",
      "  (0, 138)\t0.00729571555916\n",
      "  (0, 177)\t0.00841294973494\n",
      "  (0, 201)\t0.0422557059747\n",
      "  (0, 230)\t0.00886440634587\n",
      "  (0, 244)\t0.00679373548211\n",
      "  (0, 246)\t0.00681831071018\n",
      "  (0, 251)\t0.0201877524318\n",
      "  (0, 268)\t0.00629437188756\n",
      "  (0, 269)\t0.0190704309034\n",
      "  (0, 274)\t0.00972830351336\n",
      "  (0, 275)\t0.029380834053\n",
      "  (0, 276)\t0.00974457462836\n",
      "  (0, 400)\t0.0104642604187\n",
      "  (0, 465)\t0.00650715082774\n",
      "  (0, 548)\t0.0181453447983\n",
      "  (0, 590)\t0.0180522229886\n",
      "  (0, 591)\t0.00920809982738\n",
      "  (0, 631)\t0.022490687173\n",
      "  (0, 731)\t0.00704309616134\n",
      "  (0, 762)\t0.0129629837028\n",
      "  :\t:\n",
      "  (0, 8846)\t0.022490687173\n",
      "  (0, 8853)\t0.0292866721661\n",
      "  (0, 8864)\t0.00993423536806\n",
      "  (0, 8876)\t0.006409009642\n",
      "  (0, 8897)\t0.00679373548211\n",
      "  (0, 8911)\t0.0186546052707\n",
      "  (0, 8912)\t0.012498065172\n",
      "  (0, 8913)\t0.00620620836335\n",
      "  (0, 8963)\t0.00566090463241\n",
      "  (0, 8964)\t0.0387255296187\n",
      "  (0, 8970)\t0.00941521382615\n",
      "  (0, 9057)\t0.0471457683681\n",
      "  (0, 9067)\t0.00965410893082\n",
      "  (0, 9098)\t0.0859912121048\n",
      "  (0, 9107)\t0.0247317853321\n",
      "  (0, 9113)\t0.00886440634587\n",
      "  (0, 9131)\t0.00846880452335\n",
      "  (0, 9137)\t0.00894297328297\n",
      "  (0, 9161)\t0.0102695598793\n",
      "  (0, 9169)\t0.0193139622343\n",
      "  (0, 9170)\t0.0195729138021\n",
      "  (0, 9171)\t0.316065755412\n",
      "  (0, 9181)\t0.00610605274655\n",
      "  (0, 9182)\t0.00625534964522\n",
      "  (0, 9183)\t0.0366051781502\n",
      "you@1\n"
     ]
    }
   ],
   "source": [
    "# Which row of X is the word \"love\"?\n",
    "love_idx = list(contexts.keys()).index('love')\n",
    "print(love_idx)\n",
    "# What are the context feature values for love?\n",
    "print(X[love_idx])\n",
    "# Print a highly ranking feature.\n",
    "print(names[9171])"
   ]
  },
  {
   "cell_type": "code",
   "execution_count": 37,
   "metadata": {
    "collapsed": false
   },
   "outputs": [
    {
     "data": {
      "text/plain": [
       "KMeans(copy_x=True, init='k-means++', max_iter=300, n_clusters=20, n_init=10,\n",
       "    n_jobs=1, precompute_distances='auto', random_state=None, tol=0.0001,\n",
       "    verbose=0)"
      ]
     },
     "execution_count": 37,
     "metadata": {},
     "output_type": "execute_result"
    }
   ],
   "source": [
    "# Let's cluster!\n",
    "# http://scikit-learn.org/stable/modules/generated/sklearn.cluster.KMeans.html\n",
    "from sklearn.cluster import KMeans\n",
    "num_clusters = 20\n",
    "kmeans = KMeans(num_clusters)\n",
    "kmeans.fit(X)"
   ]
  },
  {
   "cell_type": "code",
   "execution_count": 38,
   "metadata": {
    "collapsed": false
   },
   "outputs": [
    {
     "name": "stdout",
     "output_type": "stream",
     "text": [
      "0 to@-1 t@-1 i@-1 i@-2 me@1\n",
      "1 and@1 rt@-1 i@1 of@-1 to@-2\n",
      "2 the@-1 i@1 and@1 a@-1 in@-2\n",
      "3 and@-1 i@1 to@-1 in@1 the@1\n",
      "4 m@-2 so@-1 i@-2 not@-1 m@-1\n",
      "5 the@-2 i@1 and@1 a@-1 most@-1\n",
      "6 it@-1 like@1 that@-1 to@1 the@1\n",
      "7 the@-1 in@-2 i@1 of@1 for@-2\n",
      "8 i@-1 rt@-2 i@-2 t@1 a@1\n",
      "9 my@-1 and@1 to@-2 your@-1 i@1\n",
      "10 it@-2 do@-2 s@-1 but@-1 art@1\n",
      "11 an@-1 for@1 in@-2 i@1 of@-2\n",
      "12 a@-2 i@1 i@-2 in@-1 the@-1\n",
      "13 of@1 a@-1 the@-1 i@-2 the@-2\n",
      "14 to@1 i@-2 i@-1 to@-1 m@-1\n",
      "15 and@-2 i@-1 the@1 it@1 for@-1\n",
      "16 i@-2 i@-1 ve@-1 just@-1 in@1\n",
      "17 i@1 rt@-1 i@-2 to@-2 me@-1\n",
      "18 i@-2 m@-1 i@1 be@-1 the@1\n",
      "19 a@-1 i@1 and@1 have@-2 in@-2\n"
     ]
    }
   ],
   "source": [
    "# Let's print out the top features for each mean vector.\n",
    "# This is swamped by common terms\n",
    "for i in range(num_clusters):\n",
    "    print(i, ' '.join(names[np.argsort(kmeans.cluster_centers_[i])[::-1][:5]]))"
   ]
  },
  {
   "cell_type": "code",
   "execution_count": 40,
   "metadata": {
    "collapsed": false
   },
   "outputs": [
    {
     "data": {
      "text/plain": [
       "array([ 1.07242557,  0.99899023,  1.02986095,  1.02875689,  1.06510437,\n",
       "        1.02811637,  1.0538714 ,  1.14194475,  1.12543407,  1.06321653,\n",
       "        1.02268792,  1.07671936,  1.01856784,  1.08200541,  1.01522164,\n",
       "        1.04871631,  1.04493059,  1.04957583,  1.10209854,  1.05484867])"
      ]
     },
     "execution_count": 40,
     "metadata": {},
     "output_type": "execute_result"
    }
   ],
   "source": [
    "# .transform will compute the distance from each context to each cluster.\n",
    "distances = kmeans.transform(X)\n",
    "distances[0]"
   ]
  },
  {
   "cell_type": "code",
   "execution_count": 41,
   "metadata": {
    "collapsed": false
   },
   "outputs": [
    {
     "name": "stdout",
     "output_type": "stream",
     "text": [
      "0 see do make say sleep hear be tell know \n",
      "\n",
      "1 me like and you that work this a on \n",
      "\n",
      "2 same sky fact finale world freezer bathroom ground couch \n",
      "\n",
      "3 families bea sliding hug dang yup taylor cristal protein \n",
      "\n",
      "4 thankful excited grateful glad bummed pissed bored tired much \n",
      "\n",
      "5 person thing ensure bell vlogs time record cl of \n",
      "\n",
      "6 tooo feels seems bby takes looks bringing doc upstairs \n",
      "\n",
      "7 best sky finale world fact freezer bathroom ground res \n",
      "\n",
      "8 love swear am miss ll ve have just was \n",
      "\n",
      "9 life ability boyfriend countrymen son ear sister parents fault \n",
      "\n",
      "10 whatever wrong bigger cold bea within prolly magic fails \n",
      "\n",
      "11 argument hour interpreter attitude athlete audition era article outspoken \n",
      "\n",
      "12 from photo cs of sending mother bowl town boy \n",
      "\n",
      "13 type bunch ton member perk part plenty bottle piece \n",
      "\n",
      "14 trying listening supposed able listen tend want embarrassed tryin \n",
      "\n",
      "15 freaked petty votes keeping arguing cant making among loads \n",
      "\n",
      "16 a never crossing you finished curious received witnessed still \n",
      "\n",
      "17 but sometimes when ooh and things yeah if goodbye \n",
      "\n",
      "18 hungry buying tryin loyal leaving uploading sorry crossing shocked \n",
      "\n",
      "19 headache few little hustle burrito blessing sweetheart dickhead blogger \n",
      "\n"
     ]
    }
   ],
   "source": [
    "# Finally, we'll print the words that are closest\n",
    "# to the mean of each cluster.\n",
    "terms = np.array(list(contexts.keys()))\n",
    "for i in range(num_clusters):\n",
    "    print(i, ' '.join(terms[np.argsort(distances[:,i])[1:10]]), '\\n')"
   ]
  },
  {
   "cell_type": "markdown",
   "metadata": {},
   "source": [
    "Clearly, interpreting these results requires a bit of investigation.\n",
    "\n",
    "Some patterns do emerge:\n",
    " - Cluster 7 has Polish\n",
    " - Cluster 8 are about communication acts\n",
    " - Cluster 13 is family\n",
    " - Cluster 14 seems to be abbreviations/[disfluencies](http://en.wikipedia.org/wiki/Speech_disfluency)\n",
    "\n",
    "As the number of tweets increases, we expect these clusters to become more coherent."
   ]
  },
  {
   "cell_type": "markdown",
   "metadata": {},
   "source": [
    "**How does error decrease with number of cluster?**"
   ]
  },
  {
   "cell_type": "code",
   "execution_count": 43,
   "metadata": {
    "collapsed": false
   },
   "outputs": [
    {
     "data": {
      "text/plain": [
       "-2857.5917288226187"
      ]
     },
     "execution_count": 43,
     "metadata": {},
     "output_type": "execute_result"
    }
   ],
   "source": [
    "kmeans.score(X)"
   ]
  },
  {
   "cell_type": "code",
   "execution_count": 45,
   "metadata": {
    "collapsed": false
   },
   "outputs": [
    {
     "name": "stdout",
     "output_type": "stream",
     "text": [
      "k=5 score=2970.76\n",
      "k=10 score=2907.65\n",
      "k=20 score=2859.23\n",
      "k=50 score=2774.11\n",
      "k=100 score=2686.25\n"
     ]
    },
    {
     "data": {
      "image/png": "[encoded data removed]",
      "text/plain": [
       "<matplotlib.figure.Figure at 0x10aa831d0>"
      ]
     },
     "metadata": {},
     "output_type": "display_data"
    }
   ],
   "source": [
    "import matplotlib.pyplot as plt\n",
    "%matplotlib inline\n",
    "\n",
    "scores = []\n",
    "num_cluster_options = [5,10,20,50,100]\n",
    "\n",
    "for num_clusters in num_cluster_options:\n",
    "    kmeans = KMeans(num_clusters, n_init=10, max_iter=10)\n",
    "    kmeans.fit(X)\n",
    "    score = -1 * kmeans.score(X)\n",
    "    scores.append(score)\n",
    "    print('k=%d score=%g' % (num_clusters, score))\n",
    "    \n",
    "plt.figure()\n",
    "plt.plot(num_cluster_options, scores, 'bo-')\n",
    "plt.xlabel('num clusters')\n",
    "plt.ylabel('error')\n",
    "plt.show()"
   ]
  },
  {
   "cell_type": "markdown",
   "metadata": {},
   "source": [
    "** How does error vary by initalization? **"
   ]
  },
  {
   "cell_type": "code",
   "execution_count": 46,
   "metadata": {
    "collapsed": false
   },
   "outputs": [
    {
     "name": "stdout",
     "output_type": "stream",
     "text": [
      "score=2866.97\n",
      "score=2860.65\n",
      "score=2868.09\n",
      "score=2866.2\n",
      "score=2882.51\n",
      "score=2863.72\n",
      "score=2859.34\n",
      "score=2867.88\n",
      "score=2883.09\n",
      "score=2869.8\n"
     ]
    },
    {
     "data": {
      "image/png": "[encoded data removed]",
      "text/plain": [
       "<matplotlib.figure.Figure at 0x10a9def28>"
      ]
     },
     "metadata": {},
     "output_type": "display_data"
    }
   ],
   "source": [
    "scores = []\n",
    "for i in range(10):\n",
    "    kmeans = KMeans(20, n_init=1, max_iter=100, init='random')\n",
    "    kmeans.fit(X)\n",
    "    score = -1 * kmeans.score(X)\n",
    "    scores.append(score)\n",
    "    print('score=%g' % (score))\n",
    "     \n",
    "    \n",
    "plt.figure()\n",
    "plt.plot(range(10), sorted(scores), 'bo-')\n",
    "plt.xlabel('sample')\n",
    "plt.ylabel('error')\n",
    "plt.show()"
   ]
  }
 ],
 "metadata": {
  "kernelspec": {
   "display_name": "Python 3",
   "language": "python",
   "name": "python3"
  },
  "language_info": {
   "codemirror_mode": {
    "name": "ipython",
    "version": 3
   },
   "file_extension": ".py",
   "mimetype": "text/x-python",
   "name": "python",
   "nbconvert_exporter": "python",
   "pygments_lexer": "ipython3",
   "version": "3.5.0"
  }
 },
 "nbformat": 4,
 "nbformat_minor": 0
}
