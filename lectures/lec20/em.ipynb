{
 "cells": [
  {
   "cell_type": "markdown",
   "metadata": {},
   "source": [
    "# CS 429: Information Retrieval\n",
    "<br>\n",
    "\n",
    "## Expectation Maximization for Clustering\n",
    "\n",
    "<br>\n",
    "\n",
    "### Dr. Aron Culotta\n",
    "### Illinois Institute of Technology\n",
    "### Spring 2015"
   ]
  },
  {
   "cell_type": "markdown",
   "metadata": {},
   "source": [
    "Last time:\n",
    "\n",
    "**K-Means** Algorithm Overview\n",
    "\n",
    "1. Pick $K$ mean vectors at random\n",
    "2. Iterate until convergence:\n",
    "  1. Assign each document $x_i$ to its closest mean vector $\\mu_j$\n",
    "  2. Update each mean vector $\\mu_j$ to be the mean of the $x_i$'s assigned to it\n",
    "  \n",
    "**K-means objective**\n",
    "\n",
    "- Let $M = \\{\\mu_1 \\ldots \\mu_K\\}$ be the set of mean vectors.\n",
    "- Let $r_{ij} = 1$ if $x_i$ belongs to cluster $j$, otherwise 0.\n",
    "\n",
    "$$E(D, M) = \\sum_{i=1}^N \\sum_{j=1}^K r_{ij} d(x_i, \\mu_j)$$\n",
    "\n",
    "= \"sum of distances from each document to its assigned cluster center.\"\n",
    "\n",
    "So, optimal clustering is:\n",
    "\n",
    "$$M^* \\leftarrow \\mathop{\\rm argmin}_M E(D, M)$$"
   ]
  },
  {
   "cell_type": "markdown",
   "metadata": {},
   "source": [
    "**Problems with K-Means:**\n",
    "- **Outliers:** Points far from centroids can result in poorly positioned mean vectors\n",
    "- **Non-circular data:** Clusters have higher variances in some dimensions than others. This should be reflected in distance measure."
   ]
  },
  {
   "cell_type": "markdown",
   "metadata": {},
   "source": [
    "To address these issues, we next turn to a method that:\n",
    "- Weights points by distance from $\\mu$ when recomputing the average\n",
    "- Allows clusters that are ellipses, rather than circles."
   ]
  },
  {
   "cell_type": "markdown",
   "metadata": {},
   "source": [
    "Rather than using a single point ($\\mu$) to represent the cluster, use a $V-$dimensional Gaussian.\n",
    "\n",
    "1-dimensional Gaussian:\n",
    "\n",
    "$$N(x, \\mu, \\sigma^2) = \\frac{1}{\\sigma \\sqrt{2\\pi}}e^{\\frac{-(\\mu-x)^2}{2\\sigma^2}}\\propto e^{\\frac{-(\\mu-x)^2}{2\\sigma^2}}$$\n",
    "\n",
    "![normal](images/normal.png)\n",
    "[source](https://en.wikipedia.org/wiki/Normal_distribution)\n",
    "\n",
    "\n",
    "In V-dimensions:\n",
    "\n",
    "$$N(x, \\mu, \\sigma) \\propto e^{-(\\frac{(x_1 - \\mu_1)^2}{2 \\sigma_1^2} + \\ldots + \\frac{(x_V - \\mu_V)^2}{2 \\sigma_V^2})}$$\n",
    "\n",
    "E.g., in two dimensions:\n",
    "\n",
    "![bivariate](images/bivariate.png)\n",
    "[source](http://dnene.bitbucket.org/docs/mlclass-notes/lecture16.html)\n",
    "\n",
    "By modeling cases where variance differs by dimension ($\\sigma_i \\ne \\sigma_j$), we can capture clusters like this:\n",
    "\n",
    "![unequal_var](images/unequal_var.jpg)\n",
    "[source](http://www.mathworks.com/matlabcentral/fileexchange/46324-gaussian-ellipses-constant-probability-curves)"
   ]
  },
  {
   "cell_type": "markdown",
   "metadata": {},
   "source": [
    "**Expectation Maximization Algorithm (EM)**\n",
    "\n",
    "1. Pick $\\mu$, $\\sigma$ randomly (or cleverly)\n",
    "2. Iterate until convergence:\n",
    "  1. **E-step (Expectation):** $$p(r_{ij} | x_i) = N(x_i, \\mu_j, \\sigma_j)$$ Compute distribution over possible clusters for each data point. (Recall that $r_{ij}$ is 1 if instance $i$ is assigned to cluster $j$, and 0 otherwise.)\n",
    "  2. **M-step (Maximization):** $$\\mu_j = \\frac{\\sum_i p(r_{ij} | x_i)x_i}{\\sum_i p(r_{ij}|x_i)}$$\n",
    "  Recompute mean as weighted average over all points.\n",
    "  $$ \\sigma_j = \\frac{\\sum_i p(r_{ij}) (x_i - \\mu_j)(x_i - \\mu_j)^T}{\\sum_i p(r_{ij} | x_i)}$$\n",
    "  Recompute variance as weighted average over all points.\n",
    "  \n",
    "Typically, for high-dimensional problems, we ignore the off-diagonal terms of the covariance matrix (i.e., $\\sigma_{jk}$)\n",
    "  "
   ]
  },
  {
   "cell_type": "markdown",
   "metadata": {},
   "source": [
    "Below, we use expectation maximization to find the means of two clusters for two-dimensional data.\n",
    "\n",
    "We assume diagonal covariance matrices.\n",
    "\n",
    "The bivariate normal density in this case is:\n",
    "\n",
    "$\\begin{align}\n",
    "N(\\vec{\\mu}, \\vec{\\sigma}, \\vec{x}) = \\frac{1}{2\\pi\\sigma_1\\sigma_2}\n",
    "\\exp\\left(- \\frac{(x_1-\\mu_1)^2}{2\\sigma_1^2} + \\frac{(x_2-\\mu_2)^2}{2\\sigma_2^2}\\right)\n",
    "\\end{align}\n",
    "$\n",
    "\n",
    "Let $\\vec{\\mu^j}, \\vec{\\sigma^j}$ be the mean and variance for cluster $j$. We update at each iteration with:\n",
    "\n",
    "\n",
    "$\\begin{align}\n",
    "\\mu_j' = \\frac{\\sum_i N(\\vec{\\mu^j}, \\vec{\\sigma^j}, \\vec{x_i})\\vec{x_i}}{\\sum_i N(\\vec{\\mu^j}, \\vec{\\sigma^j}, \\vec{x_i})}\n",
    "\\end{align}\n",
    "$\n"
   ]
  },
  {
   "cell_type": "code",
   "execution_count": 20,
   "metadata": {
    "collapsed": false,
    "scrolled": true
   },
   "outputs": [
    {
     "name": "stdout",
     "output_type": "stream",
     "text": [
      "Populating the interactive namespace from numpy and matplotlib\n"
     ]
    },
    {
     "data": {
      "image/png": "[encoded data removed]",
      "text/plain": [
       "<matplotlib.figure.Figure at 0x10713aa90>"
      ]
     },
     "metadata": {},
     "output_type": "display_data"
    }
   ],
   "source": [
    "% pylab inline\n",
    "import numpy as np\n",
    "from numpy import array as npa\n",
    "\n",
    "def gauss(mean, covar, x):\n",
    "    \"\"\"\n",
    "    Bivariate Gaussian distribution, assuming diagonal covariance.\n",
    "    1/(2*pi*v1*v2) * exp(- 1/2 * (x1-mean1)**2/v1 + (x2-mean2)**2/v2)\n",
    "    \"\"\"\n",
    "    Xmu = x[0]-mean[0]\n",
    "    Ymu = x[1]-mean[1]\n",
    "    z = Xmu**2 / (covar[0]**2) + Ymu**2 / (covar[1]**2)\n",
    "    denom = 2 * np.pi * covar[0] * covar[1]\n",
    "    return np.exp(-z / 2.) / denom\n",
    "\n",
    "data = np.array([npa([0.,0.02]), npa([.1,0.005]), \n",
    "                 npa([-0.9,.01]),\n",
    "                 npa([1.01,1.]), npa([.99,0.9]), \n",
    "                 npa([1.02,1.1])])\n",
    "\n",
    "mean1 = npa([-.5, -.5])\n",
    "covar1 = npa([.4, .8])\n",
    "mean2 = npa([1.5, 1.5])\n",
    "covar2 = npa([.8, .4])\n",
    "\n",
    "def plotme(mean1, covar1, mean2, covar2, data):\n",
    "    x, y = np.mgrid[-1.5:2.5:.01, -1.5:2.5:.01]\n",
    "    pos = np.empty(x.shape + (2,))\n",
    "    pos[:, :, 0] = x; pos[:, :, 1] = y\n",
    "    contourf(x, y,\n",
    "             [gauss(mean1, covar1, [xi, yi]) + gauss(mean2, covar2, [xi, yi])\n",
    "              for (xi, yi) in zip(x, y)])\n",
    "    scatter([d[0] for d in data], [d[1] for d in data], marker='v', color='w')\n",
    "\n",
    "plotme(mean1, covar1, mean2, covar2, data)\n"
   ]
  },
  {
   "cell_type": "code",
   "execution_count": 10,
   "metadata": {
    "collapsed": false
   },
   "outputs": [
    {
     "name": "stdout",
     "output_type": "stream",
     "text": [
      "new mean1= [-0.37173459  0.01202256] \n",
      "new mean2= [ 1.01010548  1.02306542]\n",
      "difference in means= 1.60711708078\n"
     ]
    },
    {
     "data": {
      "image/png": "[encoded data removed]",
      "text/plain": [
       "<matplotlib.figure.Figure at 0x1070929b0>"
      ]
     },
     "metadata": {},
     "output_type": "display_data"
    }
   ],
   "source": [
    "def e_step(data, mean1, covar1, mean2, covar2):\n",
    "    return[(gauss(mean1, covar1, point), \n",
    "            gauss(mean2, covar2, point))\n",
    "          for point in data]\n",
    "\n",
    "def m_step(data, mean1, covar1, mean2, covar2, probs):\n",
    "    # Here, we're only updating means.\n",
    "    new_mean1 = npa([0., 0.])\n",
    "    new_mean2 = npa([0., 0.])\n",
    "    for point, prob in zip(data, probs):\n",
    "        new_mean1 += prob[0] * point\n",
    "        new_mean2 += prob[1] * point\n",
    "    new_mean1 /= sum(p[0] for p in probs)\n",
    "    new_mean2 /= sum(p[1] for p in probs)\n",
    "    return new_mean1, new_mean2\n",
    "\n",
    "def iterate(data, mean1, covar1, mean2, covar2):\n",
    "    probs = e_step(data, mean1, covar1, mean2, covar2)\n",
    "    new_mean1, new_mean2 = m_step(data, mean1, covar1, mean2, covar2, probs)\n",
    "    print('new mean1=', new_mean1, '\\nnew mean2=', new_mean2)\n",
    "    print('difference in means=', \n",
    "          np.sum(np.abs(new_mean1 - mean1) + \n",
    "                 np.abs(new_mean2 - mean2)))\n",
    "    plotme(new_mean1, covar1, new_mean2, covar2, data)\n",
    "    return new_mean1, new_mean2\n",
    "\n",
    "mean1, mean2 = iterate(data, mean1, covar1, mean2, covar2)"
   ]
  },
  {
   "cell_type": "code",
   "execution_count": 11,
   "metadata": {
    "collapsed": false
   },
   "outputs": [
    {
     "name": "stdout",
     "output_type": "stream",
     "text": [
      "new mean1= [-0.20807764  0.01281648] \n",
      "new mean2= [ 1.00533049  0.99938949]\n",
      "difference in means= 0.192901774886\n"
     ]
    },
    {
     "data": {
      "image/png": "[encoded data removed]",
      "text/plain": [
       "<matplotlib.figure.Figure at 0x106f70550>"
      ]
     },
     "metadata": {},
     "output_type": "display_data"
    }
   ],
   "source": [
    "mean1, mean2 = iterate(data, mean1, covar1, mean2, covar2)"
   ]
  },
  {
   "cell_type": "code",
   "execution_count": 12,
   "metadata": {
    "collapsed": false
   },
   "outputs": [
    {
     "name": "stdout",
     "output_type": "stream",
     "text": [
      "new mean1= [-0.06819574  0.01356879] \n",
      "new mean2= [ 1.00489053  0.99808265]\n",
      "difference in means= 0.142381021534\n"
     ]
    },
    {
     "data": {
      "image/png": "[encoded data removed]",
      "text/plain": [
       "<matplotlib.figure.Figure at 0x10656e358>"
      ]
     },
     "metadata": {},
     "output_type": "display_data"
    }
   ],
   "source": [
    "mean1, mean2 = iterate(data, mean1, covar1, mean2, covar2)"
   ]
  },
  {
   "cell_type": "code",
   "execution_count": 13,
   "metadata": {
    "collapsed": false
   },
   "outputs": [
    {
     "name": "stdout",
     "output_type": "stream",
     "text": [
      "new mean1= [-0.00374725  0.01470823] \n",
      "new mean2= [ 1.00486266  0.99800587]\n",
      "difference in means= 0.0656925689312\n"
     ]
    },
    {
     "data": {
      "image/png": "[encoded data removed]",
      "text/plain": [
       "<matplotlib.figure.Figure at 0x106e654e0>"
      ]
     },
     "metadata": {},
     "output_type": "display_data"
    }
   ],
   "source": [
    "mean1, mean2 = iterate(data, mean1, covar1, mean2, covar2)"
   ]
  },
  {
   "cell_type": "code",
   "execution_count": 21,
   "metadata": {
    "collapsed": false
   },
   "outputs": [
    {
     "name": "stdout",
     "output_type": "stream",
     "text": [
      "new mean1= [-0.36962137  0.0124808 ] \n",
      "new mean2= [ 1.00946055  1.02064844]\n",
      "difference in means= 1.6127504413\n",
      "new mean1= [-0.20311972  0.0149243 ] \n",
      "new mean2= [ 0.99227608  0.98658457]\n",
      "difference in means= 0.220193491054\n",
      "new mean1= [-0.05765685  0.0204122 ] \n",
      "new mean2= [ 0.98821244  0.98142437]\n",
      "difference in means= 0.160174602874\n",
      "new mean1= [ 0.01765206  0.03223879] \n",
      "new mean2= [ 0.98747026  0.98052089]\n",
      "difference in means= 0.0887811551937\n",
      "new mean1= [ 0.04827439  0.04406639] \n",
      "new mean2= [ 0.98733662  0.98035918]\n",
      "difference in means= 0.0427452888914\n",
      "new mean1= [ 0.06095554  0.05098219] \n",
      "new mean2= [ 0.98731259  0.98033013]\n",
      "difference in means= 0.0196500434718\n",
      "new mean1= [ 0.06646637  0.05437019] \n",
      "new mean2= [ 0.98730827  0.98032491]\n",
      "difference in means= 0.00890836798046\n",
      "new mean1= [ 0.06892658  0.05595287] \n",
      "new mean2= [ 0.98730749  0.98032397]\n",
      "difference in means= 0.00404460081329\n",
      "new mean1= [ 0.07003892  0.05668201] \n",
      "new mean2= [ 0.98730735  0.9803238 ]\n",
      "difference in means= 0.00184178421988\n",
      "new mean1= [ 0.07054478  0.05701632] \n",
      "new mean2= [ 0.98730733  0.98032377]\n",
      "difference in means= 0.000840235384921\n"
     ]
    },
    {
     "data": {
      "image/png": "[encoded data removed]",
      "text/plain": [
       "<matplotlib.figure.Figure at 0x10707fef0>"
      ]
     },
     "metadata": {},
     "output_type": "display_data"
    }
   ],
   "source": [
    "for i in range(10):\n",
    "    mean1, mean2 = iterate(data, mean1, covar1, mean2, covar2)"
   ]
  },
  {
   "cell_type": "code",
   "execution_count": 16,
   "metadata": {
    "collapsed": false
   },
   "outputs": [
    {
     "data": {
      "text/plain": [
       "array([[ 0.   ,  0.02 ],\n",
       "       [ 0.1  ,  0.005],\n",
       "       [-0.9  ,  0.01 ],\n",
       "       [ 1.01 ,  1.   ],\n",
       "       [ 0.99 ,  0.9  ],\n",
       "       [ 1.02 ,  1.1  ]])"
      ]
     },
     "execution_count": 16,
     "metadata": {},
     "output_type": "execute_result"
    }
   ],
   "source": [
    "data"
   ]
  },
  {
   "cell_type": "code",
   "execution_count": 22,
   "metadata": {
    "collapsed": false
   },
   "outputs": [
    {
     "data": {
      "text/plain": [
       "[(0.48916030159118573, 0.013011401445573289),\n",
       " (0.49496516618436076, 0.013756986426530534),\n",
       " (0.026153142188780811, 0.0016230057728347156),\n",
       " (0.015745591683459646, 0.49655801695642854),\n",
       " (0.020333525676900669, 0.48742899093874786),\n",
       " (0.012709862692887187, 0.47519249990336104)]"
      ]
     },
     "execution_count": 22,
     "metadata": {},
     "output_type": "execute_result"
    }
   ],
   "source": [
    "e_step(data, mean1, covar1, mean2, covar2)"
   ]
  },
  {
   "cell_type": "markdown",
   "metadata": {},
   "source": [
    "Note how outlier does not affect mean very much."
   ]
  }
 ],
 "metadata": {
  "kernelspec": {
   "display_name": "Python 3",
   "language": "python",
   "name": "python3"
  },
  "language_info": {
   "codemirror_mode": {
    "name": "ipython",
    "version": 3
   },
   "file_extension": ".py",
   "mimetype": "text/x-python",
   "name": "python",
   "nbconvert_exporter": "python",
   "pygments_lexer": "ipython3",
   "version": "3.5.0"
  }
 },
 "nbformat": 4,
 "nbformat_minor": 0
}
